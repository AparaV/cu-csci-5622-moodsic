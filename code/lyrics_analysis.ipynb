{
 "cells": [
  {
   "cell_type": "markdown",
   "metadata": {},
   "source": [
    "# Analysis of song lyrics"
   ]
  },
  {
   "cell_type": "code",
   "execution_count": 1,
   "metadata": {},
   "outputs": [],
   "source": [
    "import os\n",
    "import nltk\n",
    "import pickle\n",
    "import string\n",
    "import itertools\n",
    "import numpy as np\n",
    "import pandas as pd\n",
    "import matplotlib.pyplot as plt\n",
    "\n",
    "from nltk.corpus import stopwords\n",
    "from nltk.stem import PorterStemmer\n",
    "from nltk.stem import WordNetLemmatizer\n",
    "from nltk.tokenize import word_tokenize\n",
    "\n",
    "from sklearn.utils import shuffle\n",
    "from sklearn.utils.multiclass import unique_labels\n",
    "from sklearn.model_selection import cross_val_score\n",
    "from sklearn.metrics import confusion_matrix, confusion_matrix\n",
    "\n",
    "from sklearn.decomposition import NMF, LatentDirichletAllocation\n",
    "from sklearn.feature_extraction.text import CountVectorizer, TfidfVectorizer\n",
    "\n",
    "from sklearn.naive_bayes import GaussianNB\n",
    "from sklearn.linear_model import LogisticRegression\n",
    "from sklearn.ensemble import RandomForestClassifier, VotingClassifier\n",
    "\n",
    "%matplotlib inline"
   ]
  },
  {
   "cell_type": "code",
   "execution_count": 2,
   "metadata": {},
   "outputs": [],
   "source": [
    "# Some basic helpers for cleaning up\n",
    "\n",
    "STOPWORDS = stopwords.words('english') + list(string.punctuation)\n",
    "stemmer = PorterStemmer()\n",
    "lemmatizer = WordNetLemmatizer()"
   ]
  },
  {
   "cell_type": "code",
   "execution_count": 3,
   "metadata": {},
   "outputs": [],
   "source": [
    "# File paths to data\n",
    "\n",
    "data_path = \"../Data/\"\n",
    "\n",
    "NJU_data_path = data_path + \"NJU_data/\"\n",
    "\n",
    "moods = [\"Angry\", \"Happy\", \"Relaxed\", \"Sad\"]\n",
    "y_values = [0, 1, 2, 3]\n",
    "\n",
    "mood_train = [NJU_data_path + mood + \"/Train/\" for mood in moods]\n",
    "mood_test = [NJU_data_path + mood + \"/Test/\" for mood in moods]"
   ]
  },
  {
   "cell_type": "code",
   "execution_count": 4,
   "metadata": {},
   "outputs": [],
   "source": [
    "def read_lyrics(path):\n",
    "    \"\"\" Read file and remove timestamps. \"\"\"\n",
    "    lyrics = []\n",
    "    with open(path, encoding=\"utf-8\") as f:\n",
    "        for line in f:\n",
    "            line = line.strip().split(']')[-1]\n",
    "            if len(line) == 0:\n",
    "                continue\n",
    "            lyrics.append(line)\n",
    "    return lyrics\n",
    "\n",
    "def stem_lyrics(lyrics):\n",
    "    \"\"\"\n",
    "    Remove punctuation, cast to lowercase and stem words.\n",
    "    Remove stopwords.\n",
    "    \"\"\"\n",
    "    stemmed_lyrics = []\n",
    "    for line in lyrics:\n",
    "        line = line.translate(line.maketrans(\"\", \"\", string.punctuation))\n",
    "        words = []\n",
    "        for word in word_tokenize(line):\n",
    "            word = word.lower()\n",
    "            word = stemmer.stem(word)\n",
    "    #         word = lemmatizer.lemmatize(word)\n",
    "            try:\n",
    "                tmp = int(word)\n",
    "                continue\n",
    "            except:\n",
    "                if word not in STOPWORDS:\n",
    "                    words.append(word)\n",
    "        newline = \" \".join(words)\n",
    "        stemmed_lyrics.append(newline)\n",
    "    return stemmed_lyrics"
   ]
  },
  {
   "cell_type": "markdown",
   "metadata": {},
   "source": [
    "https://www.nltk.org/book/ch06.html"
   ]
  },
  {
   "cell_type": "markdown",
   "metadata": {},
   "source": [
    "### Load data"
   ]
  },
  {
   "cell_type": "code",
   "execution_count": 5,
   "metadata": {},
   "outputs": [],
   "source": [
    "raw_documents = []\n",
    "y_train = []\n",
    "for idx, train_folder in enumerate(mood_train):\n",
    "    for fname in os.listdir(train_folder):\n",
    "        if fname == \"info.txt\":\n",
    "            continue\n",
    "        lyrics = stem_lyrics(read_lyrics(train_folder + fname))\n",
    "        doc = \" \".join(lyrics)\n",
    "        raw_documents.append(doc)\n",
    "        y_train.append(idx)"
   ]
  },
  {
   "cell_type": "code",
   "execution_count": 6,
   "metadata": {},
   "outputs": [],
   "source": [
    "no_features = 500\n",
    "\n",
    "tfidf_vectorizer = TfidfVectorizer(max_df=0.95, min_df=2, max_features=no_features, stop_words='english')\n",
    "tfidf = tfidf_vectorizer.fit_transform(raw_documents)\n",
    "tfidf_feature_names = tfidf_vectorizer.get_feature_names()\n",
    "word_dictionary = set(tfidf_feature_names)\n",
    "\n",
    "# LDA can only use raw term counts for LDA because it is a probabilistic graphical model\n",
    "tf_vectorizer = CountVectorizer(max_df=0.95, min_df=2, max_features=no_features, stop_words='english')\n",
    "tf = tf_vectorizer.fit_transform(raw_documents)\n",
    "tf_feature_names = tf_vectorizer.get_feature_names()"
   ]
  },
  {
   "cell_type": "code",
   "execution_count": 7,
   "metadata": {},
   "outputs": [],
   "source": [
    "X, y = shuffle(tfidf, np.array(y_train))\n",
    "X = X.toarray()"
   ]
  },
  {
   "cell_type": "code",
   "execution_count": 8,
   "metadata": {},
   "outputs": [],
   "source": [
    "test_documents = []\n",
    "y_test = []\n",
    "\n",
    "for idx, test_folder in enumerate(mood_test):\n",
    "    for fname in os.listdir(test_folder):\n",
    "        if fname == \"info.txt\":\n",
    "            continue\n",
    "        lyrics = stem_lyrics(read_lyrics(test_folder + fname))\n",
    "        doc = \" \".join(lyrics)\n",
    "        test_documents.append(doc)\n",
    "        y_test.append(idx)\n",
    "        \n",
    "test_tfidf = tfidf_vectorizer.transform(test_documents)\n",
    "X_test = test_tfidf.toarray()\n",
    "y_test = np.array(y_test)"
   ]
  },
  {
   "cell_type": "markdown",
   "metadata": {},
   "source": [
    "### Training classifiers"
   ]
  },
  {
   "cell_type": "code",
   "execution_count": 9,
   "metadata": {},
   "outputs": [
    {
     "name": "stdout",
     "output_type": "stream",
     "text": [
      "Naive Bayes\n",
      "Train acc: 88.25 %\n",
      "Test acc: 38.73 %\n"
     ]
    }
   ],
   "source": [
    "baes = GaussianNB()\n",
    "baes = baes.fit(X, y)\n",
    "baes_train_acc = baes.score(X, y)\n",
    "baes_test_acc = baes.score(X_test, y_test)\n",
    "\n",
    "print(\"Naive Bayes\")\n",
    "print(\"Train acc: {:.2f} %\".format(baes_train_acc * 100))\n",
    "print(\"Test acc: {:.2f} %\".format(baes_test_acc * 100))"
   ]
  },
  {
   "cell_type": "code",
   "execution_count": 10,
   "metadata": {},
   "outputs": [
    {
     "name": "stdout",
     "output_type": "stream",
     "text": [
      "Logistic Regression\n",
      "Train acc: 92.50 %\n",
      "Test acc: 40.85 %\n"
     ]
    }
   ],
   "source": [
    "lr = LogisticRegression(random_state=0, solver='lbfgs', multi_class='multinomial')\n",
    "lr = lr.fit(X, y)\n",
    "lr_train_acc = lr.score(X, y)\n",
    "lr_test_acc = lr.score(X_test, y_test)\n",
    "\n",
    "print(\"Logistic Regression\")\n",
    "print(\"Train acc: {:.2f} %\".format(lr_train_acc * 100))\n",
    "print(\"Test acc: {:.2f} %\".format(lr_test_acc * 100))"
   ]
  },
  {
   "cell_type": "code",
   "execution_count": 11,
   "metadata": {},
   "outputs": [
    {
     "name": "stdout",
     "output_type": "stream",
     "text": [
      "Random Forests\n",
      "Train acc: 74.50 %\n",
      "Test acc: 40.85 %\n"
     ]
    }
   ],
   "source": [
    "rf = RandomForestClassifier(n_estimators=100, max_depth=2, random_state=0)\n",
    "rf.fit(X, y)\n",
    "rf_train_acc = rf.score(X, y)\n",
    "rf_test_acc = rf.score(X_test, y_test)\n",
    "\n",
    "print(\"Random Forests\")\n",
    "print(\"Train acc: {:.2f} %\".format(rf_train_acc * 100))\n",
    "print(\"Test acc: {:.2f} %\".format(rf_test_acc * 100))"
   ]
  },
  {
   "cell_type": "markdown",
   "metadata": {},
   "source": [
    "Combine these three classifiers and create a voting method. Use their training and test accuracies to weight their votes. Test accuracies get higher weightage. Then, we train on the entire data (test + train)."
   ]
  },
  {
   "cell_type": "code",
   "execution_count": 12,
   "metadata": {},
   "outputs": [
    {
     "name": "stdout",
     "output_type": "stream",
     "text": [
      "10-fold cross validation score: 36.40 %\n"
     ]
    }
   ],
   "source": [
    "# First we get the weights\n",
    "train_acc = np.array([baes_train_acc, lr_train_acc, rf_train_acc])\n",
    "test_acc  = np.array([baes_test_acc, lr_test_acc, rf_test_acc])\n",
    "\n",
    "train_wts = train_acc / np.sum(train_acc)\n",
    "test_wts = test_acc / np.sum(test_acc)\n",
    "\n",
    "weights = train_wts + 2*test_wts\n",
    "weights = weights / np.sum(weights)\n",
    "\n",
    "# Now, create a voting classifier\n",
    "committee = VotingClassifier(estimators=[('Baes', baes), ('LogReg', lr), ('RandForests', rf)],\n",
    "                             voting='soft',\n",
    "                             weights=weights)\n",
    "\n",
    "all_X = np.concatenate((X, X_test), axis=0)\n",
    "all_y = np.concatenate((y, y_test), axis=0)\n",
    "\n",
    "cv_scores = cross_val_score(committee, all_X, all_y, cv=10)\n",
    "avg_score = np.mean(cv_scores)\n",
    "print(\"10-fold cross validation score: {:.2f} %\".format(avg_score*100))\n",
    "\n",
    "# Now fit and pickle model\n",
    "committee = committee.fit(all_X, all_y)\n",
    "with open(\"models/committee.pkl\", \"wb\") as f:\n",
    "    pickle.dump(committee, f)"
   ]
  },
  {
   "cell_type": "markdown",
   "metadata": {},
   "source": [
    "Confusion matrix"
   ]
  },
  {
   "cell_type": "code",
   "execution_count": 13,
   "metadata": {},
   "outputs": [
    {
     "data": {
      "image/png": "[encoded data removed]",
      "text/plain": [
       "<Figure size 360x360 with 2 Axes>"
      ]
     },
     "metadata": {
      "needs_background": "light"
     },
     "output_type": "display_data"
    }
   ],
   "source": [
    "def plot_confusion_matrix(cm, classes, normalize=True, title='Confusion Matrix', cmap=plt.cm.Blues,\n",
    "                          x=5, verbose=False):\n",
    "    \"\"\"\n",
    "    This function prints and plots the confusion matrix.\n",
    "    Normalization can be applied by setting `normalize=True`.\n",
    "    \"\"\"\n",
    "    if normalize:\n",
    "        cm = cm.astype('float') / cm.sum(axis=1)[:, np.newaxis]\n",
    "        if verbose:\n",
    "            print(\"Normalized confusion matrix\")\n",
    "            print(cm)\n",
    "    else:\n",
    "        if verbose:\n",
    "            print('Confusion matrix, without normalization')\n",
    "            print(cm)\n",
    "    \n",
    "    plt.figure(figsize=(x, x))\n",
    "    plt.imshow(cm, interpolation='nearest', cmap=cmap)\n",
    "    plt.title(title)\n",
    "    plt.colorbar()\n",
    "    tick_marks = np.arange(len(classes))\n",
    "    plt.xticks(tick_marks, classes, rotation=45)\n",
    "    plt.yticks(tick_marks, classes)\n",
    "\n",
    "    fmt = '.2f' if normalize else 'd'\n",
    "    thresh = cm.max() / 2.\n",
    "    for i, j in itertools.product(range(cm.shape[0]), range(cm.shape[1])):\n",
    "        if cm[i, j] == 0:\n",
    "            continue\n",
    "        plt.text(j, i, format(cm[i, j], fmt),\n",
    "                 horizontalalignment=\"center\",\n",
    "                 color=\"white\" if cm[i, j] > thresh else \"black\")\n",
    "\n",
    "    plt.ylabel('True label')\n",
    "    plt.xlabel('Predicted label')\n",
    "    \n",
    "#     plt.savefig(\"conf_mat-perfect.png\", bbox_inches = \"tight\", dpi=200)\n",
    "    \n",
    "    plt.show()\n",
    "\n",
    "y_pred = committee.predict(all_X)\n",
    "C = confusion_matrix(all_y, y_pred, labels=y_values)\n",
    "plot_confusion_matrix(C, classes=moods, cmap=plt.cm.Blues, x=5, title=\"Confusion Matrix\")"
   ]
  },
  {
   "cell_type": "markdown",
   "metadata": {},
   "source": [
    "#### Topic Modeling"
   ]
  },
  {
   "cell_type": "code",
   "execution_count": 14,
   "metadata": {},
   "outputs": [],
   "source": [
    "no_topics = 5\n",
    "\n",
    "# Run NMF\n",
    "nmf = NMF(n_components=no_topics, random_state=1, alpha=.1, l1_ratio=.5, init='nndsvd').fit(tfidf)\n",
    "\n",
    "# Run LDA\n",
    "lda = LatentDirichletAllocation(n_components=no_topics, max_iter=5, learning_method='online', learning_offset=50.,random_state=0).fit(tf)"
   ]
  },
  {
   "cell_type": "code",
   "execution_count": 15,
   "metadata": {},
   "outputs": [
    {
     "name": "stdout",
     "output_type": "stream",
     "text": [
      "Topic 0:\n",
      "wed thought insid peac train imagin wall warm fight answer hour easi follow laugh said kiss weve away late flow\n",
      "Topic 1:\n",
      "angel shit reach burn wall alway glad shot drop warm play sky dead weve gave littl youv breath dream gone\n",
      "Topic 2:\n",
      "lose die burn shadi shot quit slowli fight melt forev easi insid broken flow answer hurt wrong scare sick listen\n",
      "Topic 3:\n",
      "cross drown touch hate imagin snow answer aint friend melt doubt hold empti scare everybodi hide peac wouldnt buy die\n",
      "Topic 4:\n",
      "babi earth boy slowli lucki girl clear step worri perfect let imagin damn pay blow man best death hit tonight\n",
      "\n",
      "...\n",
      "\n",
      "Topic 0:\n",
      "life secret cri dont oh world live need know thi im love ive die care dream sun whoa want hold\n",
      "Topic 1:\n",
      "heart gave thi christma im someon come year mayb know break dont bird save tear veri day away hear ladi\n",
      "Topic 2:\n",
      "im hey thi burn look alright dont wa chang fuck dead shadi whi home kill danc shit war everybodi got\n",
      "Topic 3:\n",
      "la make life wonder imagin goe uh love hear master lord know night heaven cold pa ne thi word work\n",
      "Topic 4:\n",
      "love know like im let na dont wa come thi caus time say want oh way think ill feel got\n"
     ]
    }
   ],
   "source": [
    "def display_topics(model, feature_names, no_top_words):\n",
    "    for topic_idx, topic in enumerate(model.components_):\n",
    "        print(\"Topic %d:\" % (topic_idx))\n",
    "        print(\" \".join([feature_names[i]\n",
    "                        for i in topic.argsort()[:-no_top_words - 1:-1]]))\n",
    "\n",
    "no_top_words = 20\n",
    "display_topics(nmf, list(word_dictionary), no_top_words)\n",
    "\n",
    "print(\"\\n...\\n\")\n",
    "\n",
    "no_top_words = 20\n",
    "display_topics(lda, tf_feature_names, no_top_words)"
   ]
  },
  {
   "cell_type": "code",
   "execution_count": null,
   "metadata": {},
   "outputs": [],
   "source": []
  }
 ],
 "metadata": {
  "kernelspec": {
   "display_name": "Python 3",
   "language": "python",
   "name": "python3"
  },
  "language_info": {
   "codemirror_mode": {
    "name": "ipython",
    "version": 3
   },
   "file_extension": ".py",
   "mimetype": "text/x-python",
   "name": "python",
   "nbconvert_exporter": "python",
   "pygments_lexer": "ipython3",
   "version": "3.6.1"
  }
 },
 "nbformat": 4,
 "nbformat_minor": 2
}
